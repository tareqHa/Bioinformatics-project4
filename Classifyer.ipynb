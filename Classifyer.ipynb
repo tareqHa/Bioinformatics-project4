{
 "cells": [
  {
   "cell_type": "markdown",
   "metadata": {},
   "source": [
    "## Import modules"
   ]
  },
  {
   "cell_type": "code",
   "execution_count": 1,
   "metadata": {},
   "outputs": [],
   "source": [
    "from Bio.Seq import Seq\n",
    "from Bio import SeqIO\n",
    "import doctest\n",
    "from sklearn.utils import shuffle\n",
    "from sklearn.model_selection import train_test_split\n",
    "from sklearn.ensemble import RandomForestClassifier\n",
    "from sklearn import metrics\n",
    "from sklearn import svm"
   ]
  },
  {
   "cell_type": "markdown",
   "metadata": {},
   "source": [
    "## Generate combinations"
   ]
  },
  {
   "cell_type": "code",
   "execution_count": 2,
   "metadata": {},
   "outputs": [],
   "source": [
    "num_to_char = {\n",
    "    0 : 'a',\n",
    "    1 : 't',\n",
    "    2 : 'c',\n",
    "    3 : 'g'\n",
    "}\n",
    "\n",
    "char_to_num = {\n",
    "    'a' : 0,\n",
    "    't' : 1,\n",
    "    'c' : 2,\n",
    "    'g' : 3\n",
    "}\n",
    "\n",
    "combinations = set()\n",
    "\n",
    "negative_data =[]\n",
    "positive_data = []\n",
    "\n",
    "FRAME_SIZE = 1500\n",
    "STEP = 750"
   ]
  },
  {
   "cell_type": "code",
   "execution_count": 3,
   "metadata": {},
   "outputs": [],
   "source": [
    "def decode(n):\n",
    "    '''\n",
    "    Test cases:\n",
    "    \n",
    "    >>> decode(0)\n",
    "    'aaaa'\n",
    "    \n",
    "    >>> decode(1)\n",
    "    'taaa'\n",
    "    \n",
    "    >>> decode(2)\n",
    "    'caaa'\n",
    "    \n",
    "    >>> decode(255)\n",
    "    'gggg'\n",
    "    '''\n",
    "    ret = ''\n",
    "    for i in range(0, 8, 2):\n",
    "        tmp = n & ((1 << i) | (1 << (i+1)))\n",
    "        tmp = tmp >> i\n",
    "        ch = num_to_char[tmp]\n",
    "        ret = ret + ch\n",
    "    return ret"
   ]
  },
  {
   "cell_type": "code",
   "execution_count": 4,
   "metadata": {},
   "outputs": [
    {
     "data": {
      "text/plain": [
       "TestResults(failed=0, attempted=4)"
      ]
     },
     "execution_count": 4,
     "metadata": {},
     "output_type": "execute_result"
    }
   ],
   "source": [
    "doctest.testmod(verbose=False)"
   ]
  },
  {
   "cell_type": "code",
   "execution_count": 5,
   "metadata": {},
   "outputs": [],
   "source": [
    "def generate_combinations():\n",
    "    for i in range(255):\n",
    "        combination = decode(i)\n",
    "        assert len(combination) == 4\n",
    "        \n",
    "        seq = Seq(combination)\n",
    "        seq_rev = seq.reverse_complement()\n",
    "        string = str(seq_rev)\n",
    "        if (not(string in combinations)):\n",
    "            combinations.add(combination)\n",
    "            \n",
    "    assert len(combinations) == 136\n",
    "        "
   ]
  },
  {
   "cell_type": "code",
   "execution_count": 6,
   "metadata": {},
   "outputs": [],
   "source": [
    "generate_combinations()"
   ]
  },
  {
   "cell_type": "markdown",
   "metadata": {},
   "source": [
    "## Read training data"
   ]
  },
  {
   "cell_type": "code",
   "execution_count": 7,
   "metadata": {},
   "outputs": [],
   "source": [
    "def read_data():\n",
    "    \n",
    "\n",
    "    for record in SeqIO.parse(\"vista1500\", \"fasta\"):\n",
    "        positive_data.append(str(record.seq).lower())\n",
    "\n",
    "    for record in SeqIO.parse(\"randoms1500\", \"fasta\"):\n",
    "        negative_data.append(str(record.seq).lower())"
   ]
  },
  {
   "cell_type": "code",
   "execution_count": 8,
   "metadata": {},
   "outputs": [],
   "source": [
    "read_data()\n",
    "positive_data"
   ]
  },
  {
   "cell_type": "markdown",
   "metadata": {},
   "source": [
    "## Compute frequencies"
   ]
  },
  {
   "cell_type": "code",
   "execution_count": 32,
   "metadata": {},
   "outputs": [],
   "source": [
    "def process_sequence(seq):\n",
    "    \n",
    "    frequency_map = {}\n",
    "    \n",
    "    for combination in combinations:\n",
    "        frequency_map[combination] = 0\n",
    "        \n",
    "    assert(len(frequency_map) == len(combinations))\n",
    "    \n",
    "    for i in range(len(seq) - 4):\n",
    "        \n",
    "        combination = seq[i:i+4]\n",
    "        if (combination in frequency_map):\n",
    "            frequency_map[combination] = frequency_map[combination] + 1\n",
    "        \n",
    "        combination_reverse_complement = str(Seq(combination).reverse_complement())\n",
    "        \n",
    "        if (combination_reverse_complement in frequency_map):\n",
    "            frequency_map[combination_reverse_complement] = frequency_map[combination_reverse_complement] + 1\n",
    "        \n",
    "    ret_arr = []\n",
    "    for key in frequency_map:\n",
    "        \n",
    "        ret_arr.append( float(float(frequency_map[key]) / 1500.0 ))\n",
    "    return ret_arr\n",
    "        "
   ]
  },
  {
   "cell_type": "code",
   "execution_count": 33,
   "metadata": {},
   "outputs": [],
   "source": [
    "def generate_training_data():\n",
    "    \n",
    "    x = []\n",
    "    y = []\n",
    "    \n",
    "    for sq in positive_data:\n",
    "        x.append(process_sequence(sq))\n",
    "        y.append(1)\n",
    "    for sq in negative_data:\n",
    "        x.append(process_sequence(sq))\n",
    "        y.append(0)\n",
    "    return x, y"
   ]
  },
  {
   "cell_type": "code",
   "execution_count": 34,
   "metadata": {},
   "outputs": [
    {
     "data": {
      "text/plain": [
       "[0.006666666666666667,\n",
       " 0.004,\n",
       " 0.008,\n",
       " 0.014666666666666666,\n",
       " 0.006666666666666667,\n",
       " 0.021333333333333333,\n",
       " 0.008,\n",
       " 0.009333333333333334,\n",
       " 0.0033333333333333335,\n",
       " 0.007333333333333333,\n",
       " 0.004,\n",
       " 0.013333333333333334,\n",
       " 0.004,\n",
       " 0.0026666666666666666,\n",
       " 0.012666666666666666,\n",
       " 0.006,\n",
       " 0.006666666666666667,\n",
       " 0.0026666666666666666,\n",
       " 0.008,\n",
       " 0.0013333333333333333,\n",
       " 0.0,\n",
       " 0.0026666666666666666,\n",
       " 0.004,\n",
       " 0.004,\n",
       " 0.008666666666666666,\n",
       " 0.012666666666666666,\n",
       " 0.008666666666666666,\n",
       " 0.013333333333333334,\n",
       " 0.016666666666666666,\n",
       " 0.013333333333333334,\n",
       " 0.004,\n",
       " 0.012666666666666666,\n",
       " 0.0013333333333333333,\n",
       " 0.0,\n",
       " 0.0033333333333333335,\n",
       " 0.002,\n",
       " 0.007333333333333333,\n",
       " 0.0013333333333333333,\n",
       " 0.0,\n",
       " 0.0,\n",
       " 0.005333333333333333,\n",
       " 0.009333333333333334,\n",
       " 0.007333333333333333,\n",
       " 0.002,\n",
       " 0.008,\n",
       " 0.012666666666666666,\n",
       " 0.007333333333333333,\n",
       " 0.004,\n",
       " 0.012,\n",
       " 0.0013333333333333333,\n",
       " 0.005333333333333333,\n",
       " 0.016666666666666666,\n",
       " 0.011333333333333334,\n",
       " 0.007333333333333333,\n",
       " 0.01,\n",
       " 0.008,\n",
       " 0.012,\n",
       " 0.004666666666666667,\n",
       " 0.013333333333333334,\n",
       " 0.004,\n",
       " 0.008666666666666666,\n",
       " 0.008666666666666666,\n",
       " 0.008666666666666666,\n",
       " 0.008666666666666666,\n",
       " 0.020666666666666667,\n",
       " 0.0026666666666666666,\n",
       " 0.009333333333333334,\n",
       " 0.0,\n",
       " 0.004,\n",
       " 0.0026666666666666666,\n",
       " 0.010666666666666666,\n",
       " 0.008,\n",
       " 0.004666666666666667,\n",
       " 0.014,\n",
       " 0.010666666666666666,\n",
       " 0.014666666666666666,\n",
       " 0.011333333333333334,\n",
       " 0.008666666666666666,\n",
       " 0.004666666666666667,\n",
       " 0.005333333333333333,\n",
       " 0.006,\n",
       " 0.0013333333333333333,\n",
       " 0.005333333333333333,\n",
       " 0.008,\n",
       " 0.012666666666666666,\n",
       " 0.006666666666666667,\n",
       " 0.012,\n",
       " 0.004,\n",
       " 0.007333333333333333,\n",
       " 0.002,\n",
       " 0.014,\n",
       " 0.006666666666666667,\n",
       " 0.011333333333333334,\n",
       " 0.0013333333333333333,\n",
       " 0.014666666666666666,\n",
       " 0.01,\n",
       " 0.02,\n",
       " 0.009333333333333334,\n",
       " 0.007333333333333333,\n",
       " 0.013333333333333334,\n",
       " 0.006666666666666667,\n",
       " 0.01,\n",
       " 0.012,\n",
       " 0.0013333333333333333,\n",
       " 0.016,\n",
       " 0.004666666666666667,\n",
       " 0.008666666666666666,\n",
       " 0.0006666666666666666,\n",
       " 0.009333333333333334,\n",
       " 0.008666666666666666,\n",
       " 0.008,\n",
       " 0.0026666666666666666,\n",
       " 0.006666666666666667,\n",
       " 0.011333333333333334,\n",
       " 0.015333333333333332,\n",
       " 0.005333333333333333,\n",
       " 0.006666666666666667,\n",
       " 0.0026666666666666666,\n",
       " 0.0026666666666666666,\n",
       " 0.004666666666666667,\n",
       " 0.007333333333333333,\n",
       " 0.006666666666666667,\n",
       " 0.006,\n",
       " 0.009333333333333334,\n",
       " 0.010666666666666666,\n",
       " 0.009333333333333334,\n",
       " 0.0026666666666666666,\n",
       " 0.0026666666666666666,\n",
       " 0.012,\n",
       " 0.005333333333333333,\n",
       " 0.01,\n",
       " 0.004,\n",
       " 0.014,\n",
       " 0.010666666666666666,\n",
       " 0.004,\n",
       " 0.014666666666666666]"
      ]
     },
     "execution_count": 34,
     "metadata": {},
     "output_type": "execute_result"
    }
   ],
   "source": [
    "x, y = generate_training_data()"
   ]
  },
  {
   "cell_type": "markdown",
   "metadata": {},
   "source": [
    "### shuffle the arrays"
   ]
  },
  {
   "cell_type": "code",
   "execution_count": 35,
   "metadata": {},
   "outputs": [],
   "source": [
    "x, y = shuffle(x, y)"
   ]
  },
  {
   "cell_type": "markdown",
   "metadata": {},
   "source": [
    "### split into train data and test data"
   ]
  },
  {
   "cell_type": "code",
   "execution_count": 36,
   "metadata": {},
   "outputs": [],
   "source": [
    "x_train, x_test, y_train, y_test = train_test_split(x, y, test_size=0.4) # 50% training and 30% test"
   ]
  },
  {
   "cell_type": "markdown",
   "metadata": {},
   "source": [
    "### create random forest classifyer"
   ]
  },
  {
   "cell_type": "code",
   "execution_count": 37,
   "metadata": {},
   "outputs": [],
   "source": [
    "clf=RandomForestClassifier(n_estimators=1000)"
   ]
  },
  {
   "cell_type": "code",
   "execution_count": 38,
   "metadata": {},
   "outputs": [
    {
     "data": {
      "text/plain": [
       "RandomForestClassifier(bootstrap=True, class_weight=None, criterion='gini',\n",
       "            max_depth=None, max_features='auto', max_leaf_nodes=None,\n",
       "            min_impurity_decrease=0.0, min_impurity_split=None,\n",
       "            min_samples_leaf=1, min_samples_split=2,\n",
       "            min_weight_fraction_leaf=0.0, n_estimators=1000, n_jobs=1,\n",
       "            oob_score=False, random_state=None, verbose=0,\n",
       "            warm_start=False)"
      ]
     },
     "execution_count": 38,
     "metadata": {},
     "output_type": "execute_result"
    }
   ],
   "source": [
    "clf.fit(x_train,y_train)"
   ]
  },
  {
   "cell_type": "markdown",
   "metadata": {},
   "source": [
    "### evaluate the random forest classifyer"
   ]
  },
  {
   "cell_type": "code",
   "execution_count": 39,
   "metadata": {},
   "outputs": [],
   "source": [
    "y_test_pred=clf.predict(x_test)\n",
    "y_train_pred=clf.predict(x_train)"
   ]
  },
  {
   "cell_type": "code",
   "execution_count": 40,
   "metadata": {},
   "outputs": [
    {
     "name": "stdout",
     "output_type": "stream",
     "text": [
      "('Test Accuracy:', 0.7955032119914347)\n",
      "('Train Accuracy:', 1.0)\n"
     ]
    }
   ],
   "source": [
    "print(\"Test Accuracy:\",metrics.accuracy_score(y_test, y_test_pred))\n",
    "print(\"Train Accuracy:\",metrics.accuracy_score(y_train, y_train_pred))"
   ]
  },
  {
   "cell_type": "markdown",
   "metadata": {},
   "source": [
    "### create support vector machine classifyer"
   ]
  },
  {
   "cell_type": "code",
   "execution_count": null,
   "metadata": {},
   "outputs": [],
   "source": [
    "clf = svm.SVC()"
   ]
  },
  {
   "cell_type": "code",
   "execution_count": null,
   "metadata": {},
   "outputs": [],
   "source": [
    "clf.fit(x_train, y_train)"
   ]
  },
  {
   "cell_type": "markdown",
   "metadata": {},
   "source": [
    "### evaluate support vector machine classifyer"
   ]
  },
  {
   "cell_type": "code",
   "execution_count": null,
   "metadata": {},
   "outputs": [],
   "source": [
    "y_test_pred=clf.predict(x_test)"
   ]
  },
  {
   "cell_type": "code",
   "execution_count": null,
   "metadata": {},
   "outputs": [],
   "source": [
    "print(\"Test Accuracy:\",metrics.accuracy_score(y_test, y_test_pred))"
   ]
  },
  {
   "cell_type": "markdown",
   "metadata": {},
   "source": [
    "## read chromosome"
   ]
  },
  {
   "cell_type": "code",
   "execution_count": 41,
   "metadata": {},
   "outputs": [],
   "source": [
    "def read_chr21():\n",
    "    records = []\n",
    "    for record in SeqIO.parse(\"chr21.fa\", \"fasta\"):\n",
    "        records.append(str(record.seq).lower())\n",
    "    assert len(records) == 1\n",
    "    return records[0]"
   ]
  },
  {
   "cell_type": "code",
   "execution_count": 42,
   "metadata": {},
   "outputs": [],
   "source": [
    "chr21 = read_chr21()"
   ]
  },
  {
   "cell_type": "markdown",
   "metadata": {},
   "source": [
    "## count frequencies in chr21"
   ]
  },
  {
   "cell_type": "code",
   "execution_count": 52,
   "metadata": {},
   "outputs": [],
   "source": [
    "def process_chr(chr21):\n",
    "    \n",
    "    x = []\n",
    "    contains_N = []\n",
    "    for i in range(0, len(chr21) - FRAME_SIZE, STEP):\n",
    "        sub_seq = chr21[i:i+FRAME_SIZE]\n",
    "        \n",
    "        assert len(sub_seq) == FRAME_SIZE\n",
    "        if (sub_seq.find('n') == -1):\n",
    "            x.append(process_sequence(sub_seq))\n",
    "            contains_N.append(0)\n",
    "        else:\n",
    "            contains_N.append(1)\n",
    "    \n",
    "    predictions = clf.predict_proba(x)\n",
    "    return predictions, contains_N\n"
   ]
  },
  {
   "cell_type": "code",
   "execution_count": 53,
   "metadata": {},
   "outputs": [],
   "source": [
    "predictions, contains_N = process_chr(chr21)"
   ]
  },
  {
   "cell_type": "code",
   "execution_count": 59,
   "metadata": {},
   "outputs": [],
   "source": [
    "def fill_means(predictions, contains_N):\n",
    "    i = 0\n",
    "    ret = []\n",
    "    p = [prediction[1] for prediction in predictions]\n",
    "    mean = float(sum(p) / len(p))\n",
    "    for has_N in contains_N:\n",
    "        \n",
    "        if (has_N == 0):\n",
    "            ret.append(p[i])\n",
    "            i = i + 1\n",
    "        else:\n",
    "            ret.append(mean)\n",
    "    return ret"
   ]
  },
  {
   "cell_type": "code",
   "execution_count": 61,
   "metadata": {},
   "outputs": [],
   "source": [
    "final_list = fill_means(predictions, contains_N)"
   ]
  },
  {
   "cell_type": "markdown",
   "metadata": {},
   "source": [
    "## write to wig file"
   ]
  },
  {
   "cell_type": "code",
   "execution_count": 64,
   "metadata": {},
   "outputs": [],
   "source": [
    "with open(\"chr21.wig\", \"w\") as f:\n",
    "    f.write(\"fixedStep chrom=chr21 start=0 step=750 span=1500\\n\")\n",
    "    f.write(\"\\n\".join([str(c) for c in final_list]))"
   ]
  },
  {
   "cell_type": "code",
   "execution_count": null,
   "metadata": {},
   "outputs": [],
   "source": []
  }
 ],
 "metadata": {
  "kernelspec": {
   "display_name": "p36workshop",
   "language": "python",
   "name": "p36workshop"
  },
  "language_info": {
   "codemirror_mode": {
    "name": "ipython",
    "version": 2
   },
   "file_extension": ".py",
   "mimetype": "text/x-python",
   "name": "python",
   "nbconvert_exporter": "python",
   "pygments_lexer": "ipython2",
   "version": "2.7.15"
  }
 },
 "nbformat": 4,
 "nbformat_minor": 2
}
