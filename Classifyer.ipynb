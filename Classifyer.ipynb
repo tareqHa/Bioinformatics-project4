{
 "cells": [
  {
   "cell_type": "markdown",
   "metadata": {},
   "source": [
    "## Import modules"
   ]
  },
  {
   "cell_type": "code",
   "execution_count": 201,
   "metadata": {},
   "outputs": [],
   "source": [
    "from Bio.Seq import Seq\n",
    "from Bio import SeqIO\n",
    "import doctest\n",
    "from sklearn.utils import shuffle\n",
    "from sklearn.model_selection import train_test_split\n",
    "from sklearn.ensemble import RandomForestClassifier\n",
    "from sklearn import metrics\n",
    "from sklearn import svm"
   ]
  },
  {
   "cell_type": "markdown",
   "metadata": {},
   "source": [
    "## Generate combinations"
   ]
  },
  {
   "cell_type": "code",
   "execution_count": 133,
   "metadata": {},
   "outputs": [],
   "source": [
    "num_to_char = {\n",
    "    0 : 'a',\n",
    "    1 : 't',\n",
    "    2 : 'c',\n",
    "    3 : 'g'\n",
    "}\n",
    "\n",
    "char_to_num = {\n",
    "    'a' : 0,\n",
    "    't' : 1,\n",
    "    'c' : 2,\n",
    "    'g' : 3\n",
    "}\n",
    "\n",
    "combinations = set()\n",
    "\n",
    "negative_data =[]\n",
    "positive_data = []"
   ]
  },
  {
   "cell_type": "code",
   "execution_count": 134,
   "metadata": {},
   "outputs": [],
   "source": [
    "def decode(n):\n",
    "    '''\n",
    "    Test cases:\n",
    "    \n",
    "    >>> decode(0)\n",
    "    'aaaa'\n",
    "    \n",
    "    >>> decode(1)\n",
    "    'taaa'\n",
    "    \n",
    "    >>> decode(2)\n",
    "    'caaa'\n",
    "    \n",
    "    >>> decode(255)\n",
    "    'gggg'\n",
    "    '''\n",
    "    ret = ''\n",
    "    for i in range(0, 8, 2):\n",
    "        tmp = n & ((1 << i) | (1 << (i+1)))\n",
    "        tmp = tmp >> i\n",
    "        ch = num_to_char[tmp]\n",
    "        ret = ret + ch\n",
    "    return ret"
   ]
  },
  {
   "cell_type": "code",
   "execution_count": 135,
   "metadata": {},
   "outputs": [
    {
     "data": {
      "text/plain": [
       "TestResults(failed=0, attempted=4)"
      ]
     },
     "execution_count": 135,
     "metadata": {},
     "output_type": "execute_result"
    }
   ],
   "source": [
    "doctest.testmod(verbose=False)"
   ]
  },
  {
   "cell_type": "code",
   "execution_count": 136,
   "metadata": {},
   "outputs": [],
   "source": [
    "def generate_combinations():\n",
    "    for i in range(255):\n",
    "        combination = decode(i)\n",
    "        assert len(combination) == 4\n",
    "        \n",
    "        seq = Seq(combination)\n",
    "        seq_rev = seq.reverse_complement()\n",
    "        string = str(seq_rev)\n",
    "        if (not(string in combinations)):\n",
    "            combinations.add(combination)\n",
    "            \n",
    "    assert len(combinations) == 136\n",
    "        "
   ]
  },
  {
   "cell_type": "code",
   "execution_count": 137,
   "metadata": {},
   "outputs": [],
   "source": [
    "generate_combinations()"
   ]
  },
  {
   "cell_type": "markdown",
   "metadata": {},
   "source": [
    "## Read training data"
   ]
  },
  {
   "cell_type": "code",
   "execution_count": 138,
   "metadata": {},
   "outputs": [],
   "source": [
    "def read_data():\n",
    "    \n",
    "\n",
    "    for record in SeqIO.parse(\"vista1500\", \"fasta\"):\n",
    "        positive_data.append(str(record.seq).lower())\n",
    "\n",
    "    for record in SeqIO.parse(\"randoms1500\", \"fasta\"):\n",
    "        negative_data.append(str(record.seq).lower())"
   ]
  },
  {
   "cell_type": "code",
   "execution_count": 139,
   "metadata": {},
   "outputs": [],
   "source": [
    "read_data()"
   ]
  },
  {
   "cell_type": "markdown",
   "metadata": {},
   "source": [
    "## Compute frequencies"
   ]
  },
  {
   "cell_type": "code",
   "execution_count": 142,
   "metadata": {},
   "outputs": [],
   "source": [
    "def process_sequence(seq):\n",
    "    \n",
    "    frequency_map = {}\n",
    "    \n",
    "    for combination in combinations:\n",
    "        frequency_map[combination] = 0\n",
    "        \n",
    "    assert(len(frequency_map) == len(combinations))\n",
    "    \n",
    "    for i in range(len(seq) - 4):\n",
    "        \n",
    "        combination = seq[i:i+4]\n",
    "        \n",
    "        if (combination in frequency_map):\n",
    "            frequency_map[combination] = frequency_map[combination] + 1\n",
    "        \n",
    "        combination_reverse_complement = str(Seq(combination).reverse_complement())\n",
    "        \n",
    "        if (combination_reverse_complement in frequency_map):\n",
    "            frequency_map[combination_reverse_complement] = frequency_map[combination_reverse_complement] + 1\n",
    "        \n",
    "    ret_arr = []\n",
    "    for key in frequency_map:\n",
    "        ret_arr.append( frequency_map[key] / 1500 )\n",
    "    return ret_arr\n",
    "        "
   ]
  },
  {
   "cell_type": "code",
   "execution_count": 158,
   "metadata": {},
   "outputs": [],
   "source": [
    "def generate_training_data():\n",
    "    \n",
    "    x = []\n",
    "    y = []\n",
    "    \n",
    "    for sq in positive_data:\n",
    "        x.append(process_sequence(sq))\n",
    "        y.append(1)\n",
    "    for sq in negative_data:\n",
    "        x.append(process_sequence(sq))\n",
    "        y.append(0)\n",
    "    return x, y"
   ]
  },
  {
   "cell_type": "code",
   "execution_count": 184,
   "metadata": {},
   "outputs": [],
   "source": [
    "x, y = generate_training_data()"
   ]
  },
  {
   "cell_type": "markdown",
   "metadata": {},
   "source": [
    "### shuffle the arrays"
   ]
  },
  {
   "cell_type": "code",
   "execution_count": 185,
   "metadata": {},
   "outputs": [],
   "source": [
    "x, y = shuffle(x, y)"
   ]
  },
  {
   "cell_type": "markdown",
   "metadata": {},
   "source": [
    "### split into train data and test data"
   ]
  },
  {
   "cell_type": "code",
   "execution_count": 295,
   "metadata": {},
   "outputs": [],
   "source": [
    "x_train, x_test, y_train, y_test = train_test_split(x, y, test_size=0.5) # 50% training and 30% test"
   ]
  },
  {
   "cell_type": "markdown",
   "metadata": {},
   "source": [
    "### create random forest classifyer"
   ]
  },
  {
   "cell_type": "code",
   "execution_count": 296,
   "metadata": {},
   "outputs": [],
   "source": [
    "clf=RandomForestClassifier(n_estimators=1000)"
   ]
  },
  {
   "cell_type": "code",
   "execution_count": 297,
   "metadata": {},
   "outputs": [
    {
     "data": {
      "text/plain": [
       "RandomForestClassifier(bootstrap=True, class_weight=None, criterion='gini',\n",
       "                       max_depth=None, max_features='auto', max_leaf_nodes=None,\n",
       "                       min_impurity_decrease=0.0, min_impurity_split=None,\n",
       "                       min_samples_leaf=1, min_samples_split=2,\n",
       "                       min_weight_fraction_leaf=0.0, n_estimators=1000,\n",
       "                       n_jobs=None, oob_score=False, random_state=None,\n",
       "                       verbose=0, warm_start=False)"
      ]
     },
     "execution_count": 297,
     "metadata": {},
     "output_type": "execute_result"
    }
   ],
   "source": [
    "clf.fit(x_train,y_train)"
   ]
  },
  {
   "cell_type": "markdown",
   "metadata": {},
   "source": [
    "### evaluate the random forest classifyer"
   ]
  },
  {
   "cell_type": "code",
   "execution_count": 298,
   "metadata": {},
   "outputs": [],
   "source": [
    "y_test_pred=clf.predict(x_test)\n",
    "y_train_pred=clf.predict(x_train)"
   ]
  },
  {
   "cell_type": "code",
   "execution_count": 299,
   "metadata": {},
   "outputs": [
    {
     "name": "stdout",
     "output_type": "stream",
     "text": [
      "Test Accuracy: 0.803082191780822\n",
      "Train Accuracy: 1.0\n"
     ]
    }
   ],
   "source": [
    "print(\"Test Accuracy:\",metrics.accuracy_score(y_test, y_test_pred))\n",
    "print(\"Train Accuracy:\",metrics.accuracy_score(y_train, y_train_pred))"
   ]
  },
  {
   "cell_type": "markdown",
   "metadata": {},
   "source": [
    "### create support vector machine classifyer"
   ]
  },
  {
   "cell_type": "code",
   "execution_count": 206,
   "metadata": {},
   "outputs": [],
   "source": [
    "clf = svm.SVC()"
   ]
  },
  {
   "cell_type": "code",
   "execution_count": 210,
   "metadata": {},
   "outputs": [
    {
     "name": "stderr",
     "output_type": "stream",
     "text": [
      "C:\\Users\\Habbab\\Anaconda2\\envs\\p36workshop\\lib\\site-packages\\sklearn\\svm\\base.py:193: FutureWarning: The default value of gamma will change from 'auto' to 'scale' in version 0.22 to account better for unscaled features. Set gamma explicitly to 'auto' or 'scale' to avoid this warning.\n",
      "  \"avoid this warning.\", FutureWarning)\n"
     ]
    },
    {
     "data": {
      "text/plain": [
       "SVC(C=1.0, cache_size=200, class_weight=None, coef0=0.0,\n",
       "    decision_function_shape='ovr', degree=3, gamma='auto_deprecated',\n",
       "    kernel='rbf', max_iter=-1, probability=False, random_state=None,\n",
       "    shrinking=True, tol=0.001, verbose=False)"
      ]
     },
     "execution_count": 210,
     "metadata": {},
     "output_type": "execute_result"
    }
   ],
   "source": [
    "clf.fit(x_train, y_train)"
   ]
  },
  {
   "cell_type": "markdown",
   "metadata": {},
   "source": [
    "### evaluate support vector machine classifyer"
   ]
  },
  {
   "cell_type": "code",
   "execution_count": 208,
   "metadata": {},
   "outputs": [],
   "source": [
    "y_test_pred=clf.predict(x_test)"
   ]
  },
  {
   "cell_type": "code",
   "execution_count": 209,
   "metadata": {},
   "outputs": [
    {
     "name": "stdout",
     "output_type": "stream",
     "text": [
      "Accuracy: 0.7232524964336662\n"
     ]
    }
   ],
   "source": [
    "print(\"Test Accuracy:\",metrics.accuracy_score(y_test, y_test_pred))"
   ]
  },
  {
   "cell_type": "code",
   "execution_count": 301,
   "metadata": {},
   "outputs": [
    {
     "data": {
      "text/plain": [
       "'C:\\\\Users\\\\Habbab\\\\Project 4'"
      ]
     },
     "execution_count": 301,
     "metadata": {},
     "output_type": "execute_result"
    }
   ],
   "source": [
    "%pwd"
   ]
  },
  {
   "cell_type": "code",
   "execution_count": null,
   "metadata": {},
   "outputs": [],
   "source": []
  }
 ],
 "metadata": {
  "kernelspec": {
   "display_name": "Python 3",
   "language": "python",
   "name": "python3"
  },
  "language_info": {
   "codemirror_mode": {
    "name": "ipython",
    "version": 3
   },
   "file_extension": ".py",
   "mimetype": "text/x-python",
   "name": "python",
   "nbconvert_exporter": "python",
   "pygments_lexer": "ipython3",
   "version": "3.6.9"
  }
 },
 "nbformat": 4,
 "nbformat_minor": 2
}
